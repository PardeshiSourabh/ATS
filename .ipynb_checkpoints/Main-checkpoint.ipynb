{
 "cells": [
  {
   "cell_type": "code",
   "execution_count": 1,
   "metadata": {},
   "outputs": [],
   "source": [
    "import pandas as pd\n",
    "import numpy as np\n",
    "import nltk"
   ]
  },
  {
   "cell_type": "code",
   "execution_count": 13,
   "metadata": {},
   "outputs": [
    {
     "data": {
      "text/html": [
       "<div>\n",
       "<style scoped>\n",
       "    .dataframe tbody tr th:only-of-type {\n",
       "        vertical-align: middle;\n",
       "    }\n",
       "\n",
       "    .dataframe tbody tr th {\n",
       "        vertical-align: top;\n",
       "    }\n",
       "\n",
       "    .dataframe thead th {\n",
       "        text-align: right;\n",
       "    }\n",
       "</style>\n",
       "<table border=\"1\" class=\"dataframe\">\n",
       "  <thead>\n",
       "    <tr style=\"text-align: right;\">\n",
       "      <th></th>\n",
       "      <th>Title</th>\n",
       "      <th>Company</th>\n",
       "      <th>JobDescription</th>\n",
       "      <th>JobRequirement</th>\n",
       "      <th>RequiredQual</th>\n",
       "    </tr>\n",
       "  </thead>\n",
       "  <tbody>\n",
       "    <tr>\n",
       "      <th>0</th>\n",
       "      <td>Chief Financial Officer</td>\n",
       "      <td>AMERIA Investment Consulting Company</td>\n",
       "      <td>AMERIA Investment Consulting Company is seekin...</td>\n",
       "      <td>- Supervises financial management and administ...</td>\n",
       "      <td>To perform this job successfully, an\\r\\nindivi...</td>\n",
       "    </tr>\n",
       "    <tr>\n",
       "      <th>1</th>\n",
       "      <td>Full-time Community Connections Intern (paid i...</td>\n",
       "      <td>International Research &amp; Exchanges Board (IREX)</td>\n",
       "      <td>NaN</td>\n",
       "      <td>NaN</td>\n",
       "      <td>- Bachelor's Degree; Master's is preferred;\\r\\...</td>\n",
       "    </tr>\n",
       "    <tr>\n",
       "      <th>2</th>\n",
       "      <td>Country Coordinator</td>\n",
       "      <td>Caucasus Environmental NGO Network (CENN)</td>\n",
       "      <td>Public outreach and strengthening of a growing...</td>\n",
       "      <td>- Working with the Country Director to provide...</td>\n",
       "      <td>- Degree in environmentally related field, or ...</td>\n",
       "    </tr>\n",
       "    <tr>\n",
       "      <th>3</th>\n",
       "      <td>BCC Specialist</td>\n",
       "      <td>Manoff Group</td>\n",
       "      <td>The LEAD (Local Enhancement and Development fo...</td>\n",
       "      <td>- Identify gaps in knowledge and overseeing in...</td>\n",
       "      <td>- Advanced degree in public health, social sci...</td>\n",
       "    </tr>\n",
       "    <tr>\n",
       "      <th>4</th>\n",
       "      <td>Software Developer</td>\n",
       "      <td>Yerevan Brandy Company</td>\n",
       "      <td>NaN</td>\n",
       "      <td>- Rendering technical assistance to Database M...</td>\n",
       "      <td>- University degree; economical background is ...</td>\n",
       "    </tr>\n",
       "  </tbody>\n",
       "</table>\n",
       "</div>"
      ],
      "text/plain": [
       "                                               Title  \\\n",
       "0                            Chief Financial Officer   \n",
       "1  Full-time Community Connections Intern (paid i...   \n",
       "2                                Country Coordinator   \n",
       "3                                     BCC Specialist   \n",
       "4                                 Software Developer   \n",
       "\n",
       "                                           Company  \\\n",
       "0             AMERIA Investment Consulting Company   \n",
       "1  International Research & Exchanges Board (IREX)   \n",
       "2        Caucasus Environmental NGO Network (CENN)   \n",
       "3                                     Manoff Group   \n",
       "4                           Yerevan Brandy Company   \n",
       "\n",
       "                                      JobDescription  \\\n",
       "0  AMERIA Investment Consulting Company is seekin...   \n",
       "1                                                NaN   \n",
       "2  Public outreach and strengthening of a growing...   \n",
       "3  The LEAD (Local Enhancement and Development fo...   \n",
       "4                                                NaN   \n",
       "\n",
       "                                      JobRequirement  \\\n",
       "0  - Supervises financial management and administ...   \n",
       "1                                                NaN   \n",
       "2  - Working with the Country Director to provide...   \n",
       "3  - Identify gaps in knowledge and overseeing in...   \n",
       "4  - Rendering technical assistance to Database M...   \n",
       "\n",
       "                                        RequiredQual  \n",
       "0  To perform this job successfully, an\\r\\nindivi...  \n",
       "1  - Bachelor's Degree; Master's is preferred;\\r\\...  \n",
       "2  - Degree in environmentally related field, or ...  \n",
       "3  - Advanced degree in public health, social sci...  \n",
       "4  - University degree; economical background is ...  "
      ]
     },
     "execution_count": 13,
     "metadata": {},
     "output_type": "execute_result"
    }
   ],
   "source": [
    "data = pd.read_csv('data/job_posts.csv', usecols=['Title', 'Company', \n",
    "                                                  'JobDescription', 'JobRequirement', 'RequiredQual'])\n",
    "data.head(5)"
   ]
  },
  {
   "cell_type": "code",
   "execution_count": 14,
   "metadata": {},
   "outputs": [
    {
     "data": {
      "text/plain": [
       "Title               28\n",
       "Company              7\n",
       "JobDescription    3892\n",
       "JobRequirement    2522\n",
       "RequiredQual       484\n",
       "dtype: int64"
      ]
     },
     "execution_count": 14,
     "metadata": {},
     "output_type": "execute_result"
    }
   ],
   "source": [
    "data.isnull().sum()"
   ]
  },
  {
   "cell_type": "code",
   "execution_count": 15,
   "metadata": {},
   "outputs": [
    {
     "data": {
      "text/plain": [
       "Accountant                                216\n",
       "Medical Representative                    151\n",
       "Chief Accountant                          151\n",
       "Sales Manager                             126\n",
       "Administrative Assistant                  124\n",
       "Lawyer                                    115\n",
       "Project Manager                            94\n",
       "Software Developer                         79\n",
       "Web Developer                              74\n",
       "Receptionist/ Administrative Assistant     73\n",
       "Name: Title, dtype: int64"
      ]
     },
     "execution_count": 15,
     "metadata": {},
     "output_type": "execute_result"
    }
   ],
   "source": [
    "data = data.dropna()\n",
    "data['Title'].value_counts()[:10]"
   ]
  },
  {
   "cell_type": "code",
   "execution_count": 16,
   "metadata": {},
   "outputs": [
    {
     "data": {
      "text/html": [
       "<div>\n",
       "<style scoped>\n",
       "    .dataframe tbody tr th:only-of-type {\n",
       "        vertical-align: middle;\n",
       "    }\n",
       "\n",
       "    .dataframe tbody tr th {\n",
       "        vertical-align: top;\n",
       "    }\n",
       "\n",
       "    .dataframe thead th {\n",
       "        text-align: right;\n",
       "    }\n",
       "</style>\n",
       "<table border=\"1\" class=\"dataframe\">\n",
       "  <thead>\n",
       "    <tr style=\"text-align: right;\">\n",
       "      <th></th>\n",
       "      <th>Title</th>\n",
       "      <th>Company</th>\n",
       "      <th>JobDescription</th>\n",
       "      <th>JobRequirement</th>\n",
       "      <th>RequiredQual</th>\n",
       "    </tr>\n",
       "  </thead>\n",
       "  <tbody>\n",
       "    <tr>\n",
       "      <th>0</th>\n",
       "      <td>Software Developer</td>\n",
       "      <td>Synergy International Systems, Inc./Armenia</td>\n",
       "      <td>Synergy International Systems, Inc./Armenia se...</td>\n",
       "      <td>Specific tasks and key responsibilities includ...</td>\n",
       "      <td>- Degree in Computer Science, Information Tech...</td>\n",
       "    </tr>\n",
       "    <tr>\n",
       "      <th>1</th>\n",
       "      <td>Web Designer</td>\n",
       "      <td>ACRA Credit Bureau</td>\n",
       "      <td>ACRA Credit Bureau seeks to fill the position ...</td>\n",
       "      <td>Translate into Armenian and Russian a web-site...</td>\n",
       "      <td>The successful candidate will demonstrate the\\...</td>\n",
       "    </tr>\n",
       "    <tr>\n",
       "      <th>2</th>\n",
       "      <td>Web Developer/ Programmer</td>\n",
       "      <td>\"Click\" Web Design</td>\n",
       "      <td>The Web Developer/ Programmer will develop int...</td>\n",
       "      <td>The Web Developer/ Programmer will be responsi...</td>\n",
       "      <td>- At least 2 years experience as a Web Develop...</td>\n",
       "    </tr>\n",
       "    <tr>\n",
       "      <th>3</th>\n",
       "      <td>Web Designer</td>\n",
       "      <td>\"Click\" Web Design</td>\n",
       "      <td>The Web Designer will build flash based websites.</td>\n",
       "      <td>The Web Designer will be responsible for creat...</td>\n",
       "      <td>- At least 2 years experience as a web designe...</td>\n",
       "    </tr>\n",
       "    <tr>\n",
       "      <th>4</th>\n",
       "      <td>Software Developer</td>\n",
       "      <td>Synergy International Systems, Inc. - Armenia</td>\n",
       "      <td>The responsibilities of this position are focu...</td>\n",
       "      <td>Specific tasks and key responsibilities includ...</td>\n",
       "      <td>- Degree in Computer Science, Information Tech...</td>\n",
       "    </tr>\n",
       "  </tbody>\n",
       "</table>\n",
       "</div>"
      ],
      "text/plain": [
       "                       Title                                        Company  \\\n",
       "0         Software Developer    Synergy International Systems, Inc./Armenia   \n",
       "1               Web Designer                             ACRA Credit Bureau   \n",
       "2  Web Developer/ Programmer                             \"Click\" Web Design   \n",
       "3               Web Designer                             \"Click\" Web Design   \n",
       "4         Software Developer  Synergy International Systems, Inc. - Armenia   \n",
       "\n",
       "                                      JobDescription  \\\n",
       "0  Synergy International Systems, Inc./Armenia se...   \n",
       "1  ACRA Credit Bureau seeks to fill the position ...   \n",
       "2  The Web Developer/ Programmer will develop int...   \n",
       "3  The Web Designer will build flash based websites.   \n",
       "4  The responsibilities of this position are focu...   \n",
       "\n",
       "                                      JobRequirement  \\\n",
       "0  Specific tasks and key responsibilities includ...   \n",
       "1  Translate into Armenian and Russian a web-site...   \n",
       "2  The Web Developer/ Programmer will be responsi...   \n",
       "3  The Web Designer will be responsible for creat...   \n",
       "4  Specific tasks and key responsibilities includ...   \n",
       "\n",
       "                                        RequiredQual  \n",
       "0  - Degree in Computer Science, Information Tech...  \n",
       "1  The successful candidate will demonstrate the\\...  \n",
       "2  - At least 2 years experience as a Web Develop...  \n",
       "3  - At least 2 years experience as a web designe...  \n",
       "4  - Degree in Computer Science, Information Tech...  "
      ]
     },
     "execution_count": 16,
     "metadata": {},
     "output_type": "execute_result"
    }
   ],
   "source": [
    "data = data[data['Title'].str.match('Software Developer|Data Analyst|Software Engineer' + \n",
    "                                          '|Web Developer|Web Designer')]\n",
    "data.reset_index(drop=True, inplace=True)\n",
    "data.head(5)"
   ]
  },
  {
   "cell_type": "code",
   "execution_count": 20,
   "metadata": {
    "scrolled": true
   },
   "outputs": [
    {
     "data": {
      "text/plain": [
       "Software Developer    79\n",
       "Web Developer         74\n",
       "Software Engineer     42\n",
       "Web Designer          34\n",
       "Data Analyst           5\n",
       "Name: Title, dtype: int64"
      ]
     },
     "execution_count": 20,
     "metadata": {},
     "output_type": "execute_result"
    }
   ],
   "source": [
    "data.Title.value_counts()[:5]"
   ]
  },
  {
   "cell_type": "code",
   "execution_count": 32,
   "metadata": {},
   "outputs": [],
   "source": [
    "import string\n",
    "from nltk.corpus import stopwords\n",
    "from nltk.tokenize import word_tokenize\n",
    "from nltk.stem import WordNetLemmatizer\n",
    "\n",
    "def remove_punc(text):\n",
    "    return text.translate(str.maketrans('', '', string.punctuation))\n",
    "\n",
    "def preprocess(text):\n",
    "    lemmatizer = WordNetLemmatizer()\n",
    "    lemmatizer.lemmatize(text)\n",
    "    stop_words = set(stopwords.words('english'))\n",
    "    word_tokens = word_tokenize(text)\n",
    "    filtered_doc = [w for w in word_tokens if not w in stop_words]\n",
    "    return filtered_doc"
   ]
  },
  {
   "cell_type": "code",
   "execution_count": 34,
   "metadata": {},
   "outputs": [],
   "source": [
    "test = data.assign(desc=pd.Series(data.apply(lambda x: x.JobDescription + x.JobRequirement + x.RequiredQual, axis=1)))"
   ]
  },
  {
   "cell_type": "code",
   "execution_count": 41,
   "metadata": {},
   "outputs": [],
   "source": [
    "document = \"\"\n",
    "for i in test.desc:\n",
    "    document += i"
   ]
  },
  {
   "cell_type": "code",
   "execution_count": 46,
   "metadata": {},
   "outputs": [
    {
     "data": {
      "text/plain": [
       "[('knowledge', 880),\n",
       " ('experience', 808),\n",
       " ('software', 679),\n",
       " ('web', 608),\n",
       " ('work', 543),\n",
       " ('development', 539),\n",
       " ('design', 491),\n",
       " ('good', 379),\n",
       " ('ability', 371),\n",
       " ('skills', 339)]"
      ]
     },
     "execution_count": 46,
     "metadata": {},
     "output_type": "execute_result"
    }
   ],
   "source": [
    "from collections import Counter\n",
    "\n",
    "document = remove_punc(document.lower())\n",
    "keywordList = preprocess(document)\n",
    "ctr = Counter(keywordList)\n",
    "ctr.most_common(10)"
   ]
  },
  {
   "cell_type": "code",
   "execution_count": 48,
   "metadata": {},
   "outputs": [
    {
     "name": "stdout",
     "output_type": "stream",
     "text": [
      "Collecting gensim\n",
      "  Downloading https://files.pythonhosted.org/packages/0b/66/04faeedb98bfa5f241d0399d0102456886179cabac0355475f23a2978847/gensim-3.8.3-cp37-cp37m-win_amd64.whl (24.2MB)\n",
      "Collecting smart-open>=1.8.1 (from gensim)\n",
      "  Downloading https://files.pythonhosted.org/packages/ea/54/01525817b6f31533d308968b814999f7e666b2234f39a55cbe5de7c1ff99/smart_open-4.1.2-py3-none-any.whl (111kB)\n",
      "Collecting Cython==0.29.14 (from gensim)\n",
      "  Downloading https://files.pythonhosted.org/packages/1f/be/b14be5c3ad1ff73096b518be1538282f053ec34faaca60a8753d975d7e93/Cython-0.29.14-cp37-cp37m-win_amd64.whl (1.7MB)\n",
      "Requirement already satisfied, skipping upgrade: scipy>=0.18.1 in e:\\anaconda3\\lib\\site-packages (from gensim) (1.1.0)\n",
      "Requirement already satisfied, skipping upgrade: six>=1.5.0 in e:\\anaconda3\\lib\\site-packages (from gensim) (1.12.0)\n",
      "Requirement already satisfied, skipping upgrade: numpy>=1.11.3 in e:\\anaconda3\\lib\\site-packages (from gensim) (1.15.4)\n",
      "Installing collected packages: smart-open, Cython, gensim\n",
      "  Found existing installation: Cython 0.28.5\n",
      "    Uninstalling Cython-0.28.5:\n",
      "      Successfully uninstalled Cython-0.28.5\n",
      "Successfully installed Cython-0.29.14 gensim-3.8.3 smart-open-4.1.2\n"
     ]
    }
   ],
   "source": [
    "!pip install -U gensim"
   ]
  },
  {
   "cell_type": "code",
   "execution_count": 49,
   "metadata": {},
   "outputs": [
    {
     "name": "stderr",
     "output_type": "stream",
     "text": [
      "E:\\Anaconda3\\lib\\site-packages\\requests\\__init__.py:91: RequestsDependencyWarning: urllib3 (1.26.2) or chardet (3.0.4) doesn't match a supported version!\n",
      "  RequestsDependencyWarning)\n"
     ]
    }
   ],
   "source": [
    "import gensim\n",
    "from gensim.utils import simple_preprocess\n",
    "from gensim.parsing.preprocessing import STOPWORDS\n",
    "from nltk.stem import WordNetLemmatizer, SnowballStemmer\n",
    "from nltk.stem.porter import *"
   ]
  },
  {
   "cell_type": "code",
   "execution_count": 50,
   "metadata": {},
   "outputs": [],
   "source": [
    "def lemmatize_stemming(text):\n",
    "    stemmer = SnowballStemmer('english')\n",
    "    lemmatizer = WordNetLemmatizer()\n",
    "    return stemmer.stem(lemmatizer.lemmatize(text, pos='v'))\n",
    "\n",
    "def preprocess(text):\n",
    "    result = []\n",
    "    for token in gensim.utils.simple_preprocess(text):\n",
    "        if token not in gensim.parsing.preprocessing.STOPWORDS and len(token) > 3:\n",
    "            result.append(lemmatize_stemming(token))\n",
    "    return result"
   ]
  },
  {
   "cell_type": "code",
   "execution_count": 63,
   "metadata": {},
   "outputs": [],
   "source": [
    "dictionary = gensim.corpora.Dictionary(test['desc'].map(preprocess))"
   ]
  },
  {
   "cell_type": "code",
   "execution_count": 64,
   "metadata": {},
   "outputs": [
    {
     "name": "stdout",
     "output_type": "stream",
     "text": [
      "0 abil\n",
      "1 addit\n",
      "2 analyt\n",
      "3 armenia\n",
      "4 aspect\n",
      "5 assur\n",
      "6 attent\n",
      "7 bachelor\n",
      "8 busi\n",
      "9 candid\n"
     ]
    }
   ],
   "source": [
    "i = 0\n",
    "for k, v in dictionary.iteritems():\n",
    "    if i < 10:\n",
    "        print(k, v)\n",
    "        i += 1\n",
    "    else:\n",
    "        break"
   ]
  },
  {
   "cell_type": "code",
   "execution_count": 65,
   "metadata": {},
   "outputs": [
    {
     "data": {
      "text/plain": [
       "1619"
      ]
     },
     "execution_count": 65,
     "metadata": {},
     "output_type": "execute_result"
    }
   ],
   "source": [
    "len(dictionary)"
   ]
  },
  {
   "cell_type": "code",
   "execution_count": 66,
   "metadata": {},
   "outputs": [],
   "source": [
    "dictionary.filter_extremes(no_below=10, no_above=0.5, keep_n=100000)"
   ]
  },
  {
   "cell_type": "code",
   "execution_count": 67,
   "metadata": {},
   "outputs": [
    {
     "data": {
      "text/plain": [
       "388"
      ]
     },
     "execution_count": 67,
     "metadata": {},
     "output_type": "execute_result"
    }
   ],
   "source": [
    "len(dictionary)"
   ]
  },
  {
   "cell_type": "code",
   "execution_count": 70,
   "metadata": {},
   "outputs": [],
   "source": [
    "bow_corpus = [dictionary.doc2bow(doc) for doc in test['desc'].map(preprocess)]"
   ]
  },
  {
   "cell_type": "code",
   "execution_count": 73,
   "metadata": {},
   "outputs": [],
   "source": [
    "from gensim import corpora, models\n",
    "from pprint import pprint\n",
    "\n",
    "tfidf = models.TfidfModel(bow_corpus)\n",
    "corpus_tfidf = tfidf[bow_corpus]"
   ]
  },
  {
   "cell_type": "code",
   "execution_count": 74,
   "metadata": {},
   "outputs": [],
   "source": [
    "lda_model = gensim.models.LdaMulticore(bow_corpus, num_topics=10, id2word=dictionary, passes=2, workers=2)"
   ]
  },
  {
   "cell_type": "code",
   "execution_count": 75,
   "metadata": {},
   "outputs": [
    {
     "name": "stdout",
     "output_type": "stream",
     "text": [
      "Topic: 0 \n",
      "Words: 0.019*\"degre\" + 0.018*\"cod\" + 0.018*\"person\" + 0.017*\"plus\" + 0.016*\"motiv\" + 0.015*\"orient\" + 0.015*\"server\" + 0.014*\"technic\" + 0.014*\"high\" + 0.014*\"understand\"\n",
      "Topic: 1 \n",
      "Words: 0.023*\"technic\" + 0.023*\"server\" + 0.019*\"relat\" + 0.019*\"product\" + 0.016*\"project\" + 0.014*\"problem\" + 0.013*\"familiar\" + 0.013*\"manag\" + 0.012*\"look\" + 0.012*\"databas\"\n",
      "Topic: 2 \n",
      "Words: 0.017*\"provid\" + 0.016*\"system\" + 0.015*\"write\" + 0.015*\"technic\" + 0.015*\"relat\" + 0.014*\"technolog\" + 0.013*\"code\" + 0.012*\"engin\" + 0.011*\"manag\" + 0.011*\"javascript\"\n",
      "Topic: 3 \n",
      "Words: 0.028*\"plus\" + 0.022*\"project\" + 0.021*\"framework\" + 0.019*\"data\" + 0.018*\"creat\" + 0.014*\"databas\" + 0.014*\"network\" + 0.014*\"document\" + 0.013*\"unix\" + 0.013*\"respons\"\n",
      "Topic: 4 \n",
      "Words: 0.024*\"plus\" + 0.019*\"degre\" + 0.019*\"respons\" + 0.016*\"russian\" + 0.016*\"relat\" + 0.015*\"websit\" + 0.014*\"technic\" + 0.012*\"technolog\" + 0.012*\"armenian\" + 0.012*\"problem\"\n",
      "Topic: 5 \n",
      "Words: 0.016*\"javascript\" + 0.016*\"excel\" + 0.014*\"project\" + 0.013*\"respons\" + 0.012*\"high\" + 0.012*\"technolog\" + 0.012*\"understand\" + 0.011*\"mysql\" + 0.011*\"page\" + 0.010*\"exist\"\n",
      "Topic: 6 \n",
      "Words: 0.040*\"test\" + 0.018*\"manag\" + 0.017*\"requir\" + 0.017*\"product\" + 0.016*\"technic\" + 0.015*\"exist\" + 0.015*\"technolog\" + 0.015*\"plus\" + 0.013*\"base\" + 0.013*\"provid\"\n",
      "Topic: 7 \n",
      "Words: 0.020*\"data\" + 0.019*\"relat\" + 0.019*\"product\" + 0.018*\"excel\" + 0.016*\"technic\" + 0.015*\"implement\" + 0.015*\"task\" + 0.014*\"algorithm\" + 0.014*\"strong\" + 0.013*\"write\"\n",
      "Topic: 8 \n",
      "Words: 0.018*\"technolog\" + 0.016*\"manag\" + 0.015*\"engin\" + 0.015*\"websit\" + 0.015*\"technic\" + 0.014*\"requir\" + 0.013*\"databas\" + 0.012*\"test\" + 0.011*\"product\" + 0.011*\"plus\"\n",
      "Topic: 9 \n",
      "Words: 0.020*\"plus\" + 0.020*\"write\" + 0.019*\"desir\" + 0.019*\"familiar\" + 0.019*\"technolog\" + 0.017*\"framework\" + 0.014*\"excel\" + 0.014*\"technic\" + 0.013*\"relat\" + 0.013*\"prefer\"\n"
     ]
    }
   ],
   "source": [
    "for idx, topic in lda_model.print_topics(-1):\n",
    "    print('Topic: {} \\nWords: {}'.format(idx, topic))"
   ]
  },
  {
   "cell_type": "code",
   "execution_count": 76,
   "metadata": {},
   "outputs": [
    {
     "name": "stdout",
     "output_type": "stream",
     "text": [
      "Topic: 0 Word: 0.014*\"content\" + 0.011*\"data\" + 0.011*\"websit\" + 0.011*\"sit\" + 0.008*\"creat\" + 0.008*\"engin\" + 0.008*\"compani\" + 0.008*\"specif\" + 0.008*\"updat\" + 0.007*\"quick\"\n",
      "Topic: 1 Word: 0.019*\"physic\" + 0.013*\"math\" + 0.010*\"algorithm\" + 0.010*\"layout\" + 0.010*\"prefer\" + 0.009*\"oblig\" + 0.009*\"militari\" + 0.009*\"previous\" + 0.009*\"implement\" + 0.009*\"plus\"\n",
      "Topic: 2 Word: 0.012*\"thing\" + 0.010*\"give\" + 0.010*\"mobil\" + 0.009*\"practic\" + 0.009*\"jqueri\" + 0.009*\"implement\" + 0.009*\"bank\" + 0.008*\"task\" + 0.008*\"solut\" + 0.008*\"modifi\"\n",
      "Topic: 3 Word: 0.011*\"cod\" + 0.010*\"familiar\" + 0.009*\"member\" + 0.009*\"test\" + 0.008*\"provid\" + 0.008*\"framework\" + 0.008*\"technic\" + 0.008*\"databas\" + 0.008*\"document\" + 0.007*\"object\"\n",
      "Topic: 4 Word: 0.010*\"financi\" + 0.009*\"player\" + 0.009*\"layout\" + 0.008*\"accept\" + 0.008*\"person\" + 0.008*\"project\" + 0.008*\"system\" + 0.008*\"masteri\" + 0.008*\"sourc\" + 0.008*\"understand\"\n",
      "Topic: 5 Word: 0.022*\"cycl\" + 0.021*\"librari\" + 0.019*\"algorithm\" + 0.018*\"data\" + 0.018*\"comprehens\" + 0.017*\"engin\" + 0.017*\"linux\" + 0.016*\"structur\" + 0.016*\"engag\" + 0.015*\"oral\"\n",
      "Topic: 6 Word: 0.015*\"apach\" + 0.011*\"militari\" + 0.011*\"oblig\" + 0.010*\"linux\" + 0.009*\"educ\" + 0.009*\"administr\" + 0.008*\"accord\" + 0.008*\"server\" + 0.008*\"unix\" + 0.008*\"mysql\"\n",
      "Topic: 7 Word: 0.015*\"backend\" + 0.012*\"posit\" + 0.010*\"perform\" + 0.010*\"autom\" + 0.009*\"compani\" + 0.009*\"main\" + 0.009*\"prefer\" + 0.009*\"profession\" + 0.009*\"control\" + 0.009*\"process\"\n",
      "Topic: 8 Word: 0.011*\"excel\" + 0.011*\"adob\" + 0.010*\"graphic\" + 0.010*\"websit\" + 0.009*\"site\" + 0.009*\"interfac\" + 0.008*\"photoshop\" + 0.008*\"armenian\" + 0.007*\"respons\" + 0.007*\"flash\"\n",
      "Topic: 9 Word: 0.020*\"long\" + 0.018*\"term\" + 0.018*\"engag\" + 0.017*\"differ\" + 0.013*\"project\" + 0.011*\"creat\" + 0.010*\"expert\" + 0.010*\"look\" + 0.010*\"particip\" + 0.010*\"xhtml\"\n"
     ]
    }
   ],
   "source": [
    "lda_model_tfidf = gensim.models.LdaMulticore(corpus_tfidf, num_topics=10, id2word=dictionary, passes=2, workers=4)\n",
    "for idx, topic in lda_model_tfidf.print_topics(-1):\n",
    "    print('Topic: {} Word: {}'.format(idx, topic))"
   ]
  },
  {
   "cell_type": "code",
   "execution_count": 77,
   "metadata": {},
   "outputs": [
    {
     "name": "stdout",
     "output_type": "stream",
     "text": [
      "\n",
      "Score: 0.9901075959205627\t \n",
      "Topic: 0.020*\"data\" + 0.019*\"relat\" + 0.019*\"product\" + 0.018*\"excel\" + 0.016*\"technic\" + 0.015*\"implement\" + 0.015*\"task\" + 0.014*\"algorithm\" + 0.014*\"strong\" + 0.013*\"write\"\n"
     ]
    }
   ],
   "source": [
    "for index, score in sorted(lda_model[bow_corpus[20]], key=lambda tup: -1*tup[1]):\n",
    "    print(\"\\nScore: {}\\t \\nTopic: {}\".format(score, lda_model.print_topic(index, 10)))"
   ]
  },
  {
   "cell_type": "code",
   "execution_count": 87,
   "metadata": {},
   "outputs": [],
   "source": [
    "unseen_document = r'''\n",
    "Under general supervision, formulates design\\r\\nstrategies, and participates in the\n",
    "strategic planning of web site goals\\r\\nand objectives.- Participates in the overall\n",
    "design structuring of the web sites;\\r\\norganizes and maintains the sites.\n",
    "\\r\\n- Develops and implements plans to obtain and maintain a high level of\\r\\nfunctionality,\n",
    "usability, and design structure for the web sites. \\r\\n- Assesses new standards, technologies \n",
    "and trends, and formulates\\r\\nstrategies and plans for future enhancement of web sites.\n",
    "\\r\\n- Develops, and coordinates the creation of comprehensive graphic\\r\\nlayouts and elements\n",
    "for new sections and/or features on the sites.- Strong proficiency with HTM/HTML, Dreamweaver,\n",
    "Flash Technology,\\r\\nPhotoshop, Java-Script, CSS;\\r\\n- Familiarity with web templates;\\r\\n-\n",
    "Advanced knowledge and understanding of web-based graphic design and\\r\\nlayout; \\r\\n-\n",
    "Web planning and organizing skills;\\r\\n- Ability to evaluate new and evolving website\n",
    "technologies; \\r\\n- Knowledge of a comprehensive range of web programming software and\\r\\nauthoring\n",
    "languages; \\r\\n- Knowledge and understanding of internet operations and functionality,\\r\\nand of\n",
    "a wide range of internet programming and design tools. \\r\\n- Web design experience and portfolio;\n",
    "\\r\\n- Creation of work using your own innovations and by following the\\r\\nguidance of managers and\n",
    "colleagues; \\r\\n- Self-organized and detailed oriented;\\r\\n- Strong inter-personal and communication\n",
    "skills;\\r\\n- Efficient when under pressure;\\r\\n- Able to work independently;\\r\\n- Able to multi-task,\n",
    "and adapt to flexible timelines.\n",
    "'''\n",
    "op = []\n",
    "bow_vector = dictionary.doc2bow(preprocess(unseen_document))\n",
    "for index, score in sorted(lda_model[bow_vector], key=lambda tup: -1*tup[1]):\n",
    "    op.append(\"Score: {} Topic: {}\".format(score, lda_model.print_topic(index, 5)))"
   ]
  },
  {
   "cell_type": "code",
   "execution_count": 88,
   "metadata": {},
   "outputs": [
    {
     "data": {
      "text/plain": [
       "['Score: 0.3178059756755829 Topic: 0.016*\"javascript\" + 0.016*\"excel\" + 0.014*\"project\" + 0.013*\"respons\" + 0.012*\"high\"',\n",
       " 'Score: 0.27502545714378357 Topic: 0.018*\"technolog\" + 0.016*\"manag\" + 0.015*\"engin\" + 0.015*\"websit\" + 0.015*\"technic\"',\n",
       " 'Score: 0.2566033601760864 Topic: 0.020*\"plus\" + 0.020*\"write\" + 0.019*\"desir\" + 0.019*\"familiar\" + 0.019*\"technolog\"',\n",
       " 'Score: 0.1427709013223648 Topic: 0.019*\"degre\" + 0.018*\"cod\" + 0.018*\"person\" + 0.017*\"plus\" + 0.016*\"motiv\"']"
      ]
     },
     "execution_count": 88,
     "metadata": {},
     "output_type": "execute_result"
    }
   ],
   "source": [
    "op"
   ]
  },
  {
   "cell_type": "code",
   "execution_count": 89,
   "metadata": {},
   "outputs": [],
   "source": [
    "lda_model.save('lda.model')"
   ]
  }
 ],
 "metadata": {
  "kernelspec": {
   "display_name": "Python 3",
   "language": "python",
   "name": "python3"
  },
  "language_info": {
   "codemirror_mode": {
    "name": "ipython",
    "version": 3
   },
   "file_extension": ".py",
   "mimetype": "text/x-python",
   "name": "python",
   "nbconvert_exporter": "python",
   "pygments_lexer": "ipython3",
   "version": "3.7.2"
  }
 },
 "nbformat": 4,
 "nbformat_minor": 2
}
